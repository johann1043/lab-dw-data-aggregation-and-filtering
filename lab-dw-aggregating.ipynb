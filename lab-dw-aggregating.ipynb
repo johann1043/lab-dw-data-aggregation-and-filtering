{
 "cells": [
  {
   "cell_type": "markdown",
   "id": "31969215-2a90-4d8b-ac36-646a7ae13744",
   "metadata": {
    "id": "31969215-2a90-4d8b-ac36-646a7ae13744"
   },
   "source": [
    "# Lab | Data Aggregation and Filtering"
   ]
  },
  {
   "cell_type": "markdown",
   "id": "a8f08a52-bec0-439b-99cc-11d3809d8b5d",
   "metadata": {
    "id": "a8f08a52-bec0-439b-99cc-11d3809d8b5d"
   },
   "source": [
    "In this challenge, we will continue to work with customer data from an insurance company. We will use the dataset called marketing_customer_analysis.csv, which can be found at the following link:\n",
    "\n",
    "https://raw.githubusercontent.com/data-bootcamp-v4/data/main/marketing_customer_analysis.csv\n",
    "\n",
    "This dataset contains information such as customer demographics, policy details, vehicle information, and the customer's response to the last marketing campaign. Our goal is to explore and analyze this data by first performing data cleaning, formatting, and structuring."
   ]
  },
  {
   "cell_type": "markdown",
   "id": "9c98ddc5-b041-4c94-ada1-4dfee5c98e50",
   "metadata": {
    "id": "9c98ddc5-b041-4c94-ada1-4dfee5c98e50"
   },
   "source": [
    "1. Create a new DataFrame that only includes customers who have a total_claim_amount greater than $1,000 and have a response of \"Yes\" to the last marketing campaign."
   ]
  },
  {
   "cell_type": "code",
   "execution_count": 2,
   "id": "fc2fc780-6cb7-48aa-bdd9-6e2402023b76",
   "metadata": {},
   "outputs": [],
   "source": [
    "import pandas as pd"
   ]
  },
  {
   "cell_type": "code",
   "execution_count": 3,
   "id": "cc2ff240-0821-4f87-aa82-45c69ce4d35a",
   "metadata": {
    "tags": []
   },
   "outputs": [],
   "source": [
    "customer_data = pd.read_csv('https://raw.githubusercontent.com/data-bootcamp-v4/data/main/marketing_customer_analysis.csv')"
   ]
  },
  {
   "cell_type": "code",
   "execution_count": 7,
   "id": "ae77c386-aa26-4223-84e1-c17fcdc22d95",
   "metadata": {
    "tags": []
   },
   "outputs": [
    {
     "data": {
      "text/plain": [
       "Index(['Unnamed: 0', 'Customer', 'State', 'Customer Lifetime Value',\n",
       "       'Response', 'Coverage', 'Education', 'Effective To Date',\n",
       "       'EmploymentStatus', 'Gender', 'Income', 'Location Code',\n",
       "       'Marital Status', 'Monthly Premium Auto', 'Months Since Last Claim',\n",
       "       'Months Since Policy Inception', 'Number of Open Complaints',\n",
       "       'Number of Policies', 'Policy Type', 'Policy', 'Renew Offer Type',\n",
       "       'Sales Channel', 'Total Claim Amount', 'Vehicle Class', 'Vehicle Size',\n",
       "       'Vehicle Type'],\n",
       "      dtype='object')"
      ]
     },
     "execution_count": 7,
     "metadata": {},
     "output_type": "execute_result"
    }
   ],
   "source": [
    "customer_data.columns"
   ]
  },
  {
   "cell_type": "code",
   "execution_count": 9,
   "id": "2e330e72-907f-422d-8d39-7c0ea20df40a",
   "metadata": {
    "tags": []
   },
   "outputs": [],
   "source": [
    "# Filtering the Dataframe by Total Claim Amount and Response\n",
    "filtered_df = customer_data[(customer_data['Total Claim Amount'] > 1000) & (customer_data['Response'] == 'Yes')]"
   ]
  },
  {
   "cell_type": "code",
   "execution_count": 10,
   "id": "25f99e57-f908-4b81-ac16-ab912720e110",
   "metadata": {
    "tags": []
   },
   "outputs": [
    {
     "data": {
      "text/html": [
       "<div>\n",
       "<style scoped>\n",
       "    .dataframe tbody tr th:only-of-type {\n",
       "        vertical-align: middle;\n",
       "    }\n",
       "\n",
       "    .dataframe tbody tr th {\n",
       "        vertical-align: top;\n",
       "    }\n",
       "\n",
       "    .dataframe thead th {\n",
       "        text-align: right;\n",
       "    }\n",
       "</style>\n",
       "<table border=\"1\" class=\"dataframe\">\n",
       "  <thead>\n",
       "    <tr style=\"text-align: right;\">\n",
       "      <th></th>\n",
       "      <th>Unnamed: 0</th>\n",
       "      <th>Customer</th>\n",
       "      <th>State</th>\n",
       "      <th>Customer Lifetime Value</th>\n",
       "      <th>Response</th>\n",
       "      <th>Coverage</th>\n",
       "      <th>Education</th>\n",
       "      <th>Effective To Date</th>\n",
       "      <th>EmploymentStatus</th>\n",
       "      <th>Gender</th>\n",
       "      <th>...</th>\n",
       "      <th>Number of Open Complaints</th>\n",
       "      <th>Number of Policies</th>\n",
       "      <th>Policy Type</th>\n",
       "      <th>Policy</th>\n",
       "      <th>Renew Offer Type</th>\n",
       "      <th>Sales Channel</th>\n",
       "      <th>Total Claim Amount</th>\n",
       "      <th>Vehicle Class</th>\n",
       "      <th>Vehicle Size</th>\n",
       "      <th>Vehicle Type</th>\n",
       "    </tr>\n",
       "  </thead>\n",
       "  <tbody>\n",
       "    <tr>\n",
       "      <th>189</th>\n",
       "      <td>189</td>\n",
       "      <td>OK31456</td>\n",
       "      <td>California</td>\n",
       "      <td>11009.130490</td>\n",
       "      <td>Yes</td>\n",
       "      <td>Premium</td>\n",
       "      <td>Bachelor</td>\n",
       "      <td>1/24/11</td>\n",
       "      <td>Employed</td>\n",
       "      <td>F</td>\n",
       "      <td>...</td>\n",
       "      <td>0.0</td>\n",
       "      <td>1</td>\n",
       "      <td>Corporate Auto</td>\n",
       "      <td>Corporate L3</td>\n",
       "      <td>Offer2</td>\n",
       "      <td>Agent</td>\n",
       "      <td>1358.400000</td>\n",
       "      <td>Luxury Car</td>\n",
       "      <td>Medsize</td>\n",
       "      <td>NaN</td>\n",
       "    </tr>\n",
       "    <tr>\n",
       "      <th>236</th>\n",
       "      <td>236</td>\n",
       "      <td>YJ16163</td>\n",
       "      <td>Oregon</td>\n",
       "      <td>11009.130490</td>\n",
       "      <td>Yes</td>\n",
       "      <td>Premium</td>\n",
       "      <td>Bachelor</td>\n",
       "      <td>1/24/11</td>\n",
       "      <td>Employed</td>\n",
       "      <td>F</td>\n",
       "      <td>...</td>\n",
       "      <td>0.0</td>\n",
       "      <td>1</td>\n",
       "      <td>Special Auto</td>\n",
       "      <td>Special L3</td>\n",
       "      <td>Offer2</td>\n",
       "      <td>Agent</td>\n",
       "      <td>1358.400000</td>\n",
       "      <td>Luxury Car</td>\n",
       "      <td>Medsize</td>\n",
       "      <td>A</td>\n",
       "    </tr>\n",
       "    <tr>\n",
       "      <th>419</th>\n",
       "      <td>419</td>\n",
       "      <td>GW43195</td>\n",
       "      <td>Oregon</td>\n",
       "      <td>25807.063000</td>\n",
       "      <td>Yes</td>\n",
       "      <td>Extended</td>\n",
       "      <td>College</td>\n",
       "      <td>2/13/11</td>\n",
       "      <td>Employed</td>\n",
       "      <td>F</td>\n",
       "      <td>...</td>\n",
       "      <td>1.0</td>\n",
       "      <td>2</td>\n",
       "      <td>Personal Auto</td>\n",
       "      <td>Personal L2</td>\n",
       "      <td>Offer1</td>\n",
       "      <td>Branch</td>\n",
       "      <td>1027.200000</td>\n",
       "      <td>Luxury Car</td>\n",
       "      <td>Small</td>\n",
       "      <td>A</td>\n",
       "    </tr>\n",
       "    <tr>\n",
       "      <th>442</th>\n",
       "      <td>442</td>\n",
       "      <td>IP94270</td>\n",
       "      <td>Arizona</td>\n",
       "      <td>13736.132500</td>\n",
       "      <td>Yes</td>\n",
       "      <td>Premium</td>\n",
       "      <td>Master</td>\n",
       "      <td>2/13/11</td>\n",
       "      <td>Disabled</td>\n",
       "      <td>F</td>\n",
       "      <td>...</td>\n",
       "      <td>0.0</td>\n",
       "      <td>8</td>\n",
       "      <td>Personal Auto</td>\n",
       "      <td>Personal L2</td>\n",
       "      <td>Offer1</td>\n",
       "      <td>Web</td>\n",
       "      <td>1261.319869</td>\n",
       "      <td>SUV</td>\n",
       "      <td>Medsize</td>\n",
       "      <td>A</td>\n",
       "    </tr>\n",
       "    <tr>\n",
       "      <th>587</th>\n",
       "      <td>587</td>\n",
       "      <td>FJ28407</td>\n",
       "      <td>California</td>\n",
       "      <td>5619.689084</td>\n",
       "      <td>Yes</td>\n",
       "      <td>Premium</td>\n",
       "      <td>High School or Below</td>\n",
       "      <td>1/26/11</td>\n",
       "      <td>Unemployed</td>\n",
       "      <td>M</td>\n",
       "      <td>...</td>\n",
       "      <td>0.0</td>\n",
       "      <td>1</td>\n",
       "      <td>Personal Auto</td>\n",
       "      <td>Personal L1</td>\n",
       "      <td>Offer2</td>\n",
       "      <td>Web</td>\n",
       "      <td>1027.000029</td>\n",
       "      <td>SUV</td>\n",
       "      <td>Medsize</td>\n",
       "      <td>A</td>\n",
       "    </tr>\n",
       "    <tr>\n",
       "      <th>...</th>\n",
       "      <td>...</td>\n",
       "      <td>...</td>\n",
       "      <td>...</td>\n",
       "      <td>...</td>\n",
       "      <td>...</td>\n",
       "      <td>...</td>\n",
       "      <td>...</td>\n",
       "      <td>...</td>\n",
       "      <td>...</td>\n",
       "      <td>...</td>\n",
       "      <td>...</td>\n",
       "      <td>...</td>\n",
       "      <td>...</td>\n",
       "      <td>...</td>\n",
       "      <td>...</td>\n",
       "      <td>...</td>\n",
       "      <td>...</td>\n",
       "      <td>...</td>\n",
       "      <td>...</td>\n",
       "      <td>...</td>\n",
       "      <td>...</td>\n",
       "    </tr>\n",
       "    <tr>\n",
       "      <th>10351</th>\n",
       "      <td>10351</td>\n",
       "      <td>FN44127</td>\n",
       "      <td>Oregon</td>\n",
       "      <td>3508.569533</td>\n",
       "      <td>Yes</td>\n",
       "      <td>Extended</td>\n",
       "      <td>College</td>\n",
       "      <td>1/5/11</td>\n",
       "      <td>Medical Leave</td>\n",
       "      <td>M</td>\n",
       "      <td>...</td>\n",
       "      <td>1.0</td>\n",
       "      <td>1</td>\n",
       "      <td>Personal Auto</td>\n",
       "      <td>Personal L2</td>\n",
       "      <td>Offer2</td>\n",
       "      <td>Branch</td>\n",
       "      <td>1176.278800</td>\n",
       "      <td>Four-Door Car</td>\n",
       "      <td>Small</td>\n",
       "      <td>NaN</td>\n",
       "    </tr>\n",
       "    <tr>\n",
       "      <th>10373</th>\n",
       "      <td>10373</td>\n",
       "      <td>XZ64172</td>\n",
       "      <td>Oregon</td>\n",
       "      <td>10963.957230</td>\n",
       "      <td>Yes</td>\n",
       "      <td>Premium</td>\n",
       "      <td>High School or Below</td>\n",
       "      <td>2/8/11</td>\n",
       "      <td>Employed</td>\n",
       "      <td>M</td>\n",
       "      <td>...</td>\n",
       "      <td>0.0</td>\n",
       "      <td>1</td>\n",
       "      <td>Corporate Auto</td>\n",
       "      <td>Corporate L2</td>\n",
       "      <td>Offer1</td>\n",
       "      <td>Agent</td>\n",
       "      <td>1324.800000</td>\n",
       "      <td>Luxury SUV</td>\n",
       "      <td>Medsize</td>\n",
       "      <td>NaN</td>\n",
       "    </tr>\n",
       "    <tr>\n",
       "      <th>10487</th>\n",
       "      <td>10487</td>\n",
       "      <td>IX60941</td>\n",
       "      <td>Oregon</td>\n",
       "      <td>3508.569533</td>\n",
       "      <td>Yes</td>\n",
       "      <td>Extended</td>\n",
       "      <td>College</td>\n",
       "      <td>1/5/11</td>\n",
       "      <td>Medical Leave</td>\n",
       "      <td>M</td>\n",
       "      <td>...</td>\n",
       "      <td>1.0</td>\n",
       "      <td>1</td>\n",
       "      <td>Personal Auto</td>\n",
       "      <td>Personal L3</td>\n",
       "      <td>Offer2</td>\n",
       "      <td>Branch</td>\n",
       "      <td>1176.278800</td>\n",
       "      <td>Four-Door Car</td>\n",
       "      <td>Small</td>\n",
       "      <td>NaN</td>\n",
       "    </tr>\n",
       "    <tr>\n",
       "      <th>10565</th>\n",
       "      <td>10565</td>\n",
       "      <td>QO62792</td>\n",
       "      <td>Oregon</td>\n",
       "      <td>7840.165778</td>\n",
       "      <td>Yes</td>\n",
       "      <td>Extended</td>\n",
       "      <td>College</td>\n",
       "      <td>1/14/11</td>\n",
       "      <td>Employed</td>\n",
       "      <td>M</td>\n",
       "      <td>...</td>\n",
       "      <td>2.0</td>\n",
       "      <td>1</td>\n",
       "      <td>Personal Auto</td>\n",
       "      <td>Personal L3</td>\n",
       "      <td>Offer2</td>\n",
       "      <td>Agent</td>\n",
       "      <td>1008.000000</td>\n",
       "      <td>NaN</td>\n",
       "      <td>NaN</td>\n",
       "      <td>NaN</td>\n",
       "    </tr>\n",
       "    <tr>\n",
       "      <th>10708</th>\n",
       "      <td>10708</td>\n",
       "      <td>CK39096</td>\n",
       "      <td>Oregon</td>\n",
       "      <td>5619.689084</td>\n",
       "      <td>Yes</td>\n",
       "      <td>Premium</td>\n",
       "      <td>High School or Below</td>\n",
       "      <td>1/26/11</td>\n",
       "      <td>Unemployed</td>\n",
       "      <td>M</td>\n",
       "      <td>...</td>\n",
       "      <td>0.0</td>\n",
       "      <td>1</td>\n",
       "      <td>Personal Auto</td>\n",
       "      <td>Personal L3</td>\n",
       "      <td>Offer2</td>\n",
       "      <td>Web</td>\n",
       "      <td>1027.000029</td>\n",
       "      <td>SUV</td>\n",
       "      <td>Medsize</td>\n",
       "      <td>A</td>\n",
       "    </tr>\n",
       "  </tbody>\n",
       "</table>\n",
       "<p>67 rows × 26 columns</p>\n",
       "</div>"
      ],
      "text/plain": [
       "       Unnamed: 0 Customer       State  Customer Lifetime Value Response  \\\n",
       "189           189  OK31456  California             11009.130490      Yes   \n",
       "236           236  YJ16163      Oregon             11009.130490      Yes   \n",
       "419           419  GW43195      Oregon             25807.063000      Yes   \n",
       "442           442  IP94270     Arizona             13736.132500      Yes   \n",
       "587           587  FJ28407  California              5619.689084      Yes   \n",
       "...           ...      ...         ...                      ...      ...   \n",
       "10351       10351  FN44127      Oregon              3508.569533      Yes   \n",
       "10373       10373  XZ64172      Oregon             10963.957230      Yes   \n",
       "10487       10487  IX60941      Oregon              3508.569533      Yes   \n",
       "10565       10565  QO62792      Oregon              7840.165778      Yes   \n",
       "10708       10708  CK39096      Oregon              5619.689084      Yes   \n",
       "\n",
       "       Coverage             Education Effective To Date EmploymentStatus  \\\n",
       "189     Premium              Bachelor           1/24/11         Employed   \n",
       "236     Premium              Bachelor           1/24/11         Employed   \n",
       "419    Extended               College           2/13/11         Employed   \n",
       "442     Premium                Master           2/13/11         Disabled   \n",
       "587     Premium  High School or Below           1/26/11       Unemployed   \n",
       "...         ...                   ...               ...              ...   \n",
       "10351  Extended               College            1/5/11    Medical Leave   \n",
       "10373   Premium  High School or Below            2/8/11         Employed   \n",
       "10487  Extended               College            1/5/11    Medical Leave   \n",
       "10565  Extended               College           1/14/11         Employed   \n",
       "10708   Premium  High School or Below           1/26/11       Unemployed   \n",
       "\n",
       "      Gender  ...  Number of Open Complaints Number of Policies  \\\n",
       "189        F  ...                        0.0                  1   \n",
       "236        F  ...                        0.0                  1   \n",
       "419        F  ...                        1.0                  2   \n",
       "442        F  ...                        0.0                  8   \n",
       "587        M  ...                        0.0                  1   \n",
       "...      ...  ...                        ...                ...   \n",
       "10351      M  ...                        1.0                  1   \n",
       "10373      M  ...                        0.0                  1   \n",
       "10487      M  ...                        1.0                  1   \n",
       "10565      M  ...                        2.0                  1   \n",
       "10708      M  ...                        0.0                  1   \n",
       "\n",
       "          Policy Type        Policy  Renew Offer Type  Sales Channel  \\\n",
       "189    Corporate Auto  Corporate L3            Offer2          Agent   \n",
       "236      Special Auto    Special L3            Offer2          Agent   \n",
       "419     Personal Auto   Personal L2            Offer1         Branch   \n",
       "442     Personal Auto   Personal L2            Offer1            Web   \n",
       "587     Personal Auto   Personal L1            Offer2            Web   \n",
       "...               ...           ...               ...            ...   \n",
       "10351   Personal Auto   Personal L2            Offer2         Branch   \n",
       "10373  Corporate Auto  Corporate L2            Offer1          Agent   \n",
       "10487   Personal Auto   Personal L3            Offer2         Branch   \n",
       "10565   Personal Auto   Personal L3            Offer2          Agent   \n",
       "10708   Personal Auto   Personal L3            Offer2            Web   \n",
       "\n",
       "       Total Claim Amount  Vehicle Class Vehicle Size Vehicle Type  \n",
       "189           1358.400000     Luxury Car      Medsize          NaN  \n",
       "236           1358.400000     Luxury Car      Medsize            A  \n",
       "419           1027.200000     Luxury Car        Small            A  \n",
       "442           1261.319869            SUV      Medsize            A  \n",
       "587           1027.000029            SUV      Medsize            A  \n",
       "...                   ...            ...          ...          ...  \n",
       "10351         1176.278800  Four-Door Car        Small          NaN  \n",
       "10373         1324.800000     Luxury SUV      Medsize          NaN  \n",
       "10487         1176.278800  Four-Door Car        Small          NaN  \n",
       "10565         1008.000000            NaN          NaN          NaN  \n",
       "10708         1027.000029            SUV      Medsize            A  \n",
       "\n",
       "[67 rows x 26 columns]"
      ]
     },
     "execution_count": 10,
     "metadata": {},
     "output_type": "execute_result"
    }
   ],
   "source": [
    "filtered_df"
   ]
  },
  {
   "cell_type": "markdown",
   "id": "b9be383e-5165-436e-80c8-57d4c757c8c3",
   "metadata": {
    "id": "b9be383e-5165-436e-80c8-57d4c757c8c3"
   },
   "source": [
    "2. Using the original Dataframe, analyze the average total_claim_amount by each policy type and gender for customers who have responded \"Yes\" to the last marketing campaign. Write your conclusions."
   ]
  },
  {
   "cell_type": "code",
   "execution_count": 11,
   "id": "e7a059c9-a4fb-487b-a119-78ed11838054",
   "metadata": {
    "tags": []
   },
   "outputs": [
    {
     "data": {
      "text/plain": [
       "Index(['Unnamed: 0', 'Customer', 'State', 'Customer Lifetime Value',\n",
       "       'Response', 'Coverage', 'Education', 'Effective To Date',\n",
       "       'EmploymentStatus', 'Gender', 'Income', 'Location Code',\n",
       "       'Marital Status', 'Monthly Premium Auto', 'Months Since Last Claim',\n",
       "       'Months Since Policy Inception', 'Number of Open Complaints',\n",
       "       'Number of Policies', 'Policy Type', 'Policy', 'Renew Offer Type',\n",
       "       'Sales Channel', 'Total Claim Amount', 'Vehicle Class', 'Vehicle Size',\n",
       "       'Vehicle Type'],\n",
       "      dtype='object')"
      ]
     },
     "execution_count": 11,
     "metadata": {},
     "output_type": "execute_result"
    }
   ],
   "source": [
    "customer_data.columns"
   ]
  },
  {
   "cell_type": "code",
   "execution_count": 16,
   "id": "a8b92123-093a-40f5-bc46-5e5773431c33",
   "metadata": {
    "tags": []
   },
   "outputs": [],
   "source": [
    "customer_data['Response_Yes'] = (customer_data['Response'] == 'Yes')\n",
    "customer_data.groupby(['Policy Type', 'Gender', 'Response_Yes'])['Total Claim Amount'].mean()\n",
    "result"
   ]
  },
  {
   "cell_type": "markdown",
   "id": "7050f4ac-53c5-4193-a3c0-8699b87196f0",
   "metadata": {
    "id": "7050f4ac-53c5-4193-a3c0-8699b87196f0"
   },
   "source": [
    "3. Analyze the total number of customers who have policies in each state, and then filter the results to only include states where there are more than 500 customers."
   ]
  },
  {
   "cell_type": "markdown",
   "id": "b60a4443-a1a7-4bbf-b78e-9ccdf9895e0d",
   "metadata": {
    "id": "b60a4443-a1a7-4bbf-b78e-9ccdf9895e0d"
   },
   "source": [
    "4. Find the maximum, minimum, and median customer lifetime value by education level and gender. Write your conclusions."
   ]
  },
  {
   "cell_type": "markdown",
   "id": "b42999f9-311f-481e-ae63-40a5577072c5",
   "metadata": {
    "id": "b42999f9-311f-481e-ae63-40a5577072c5"
   },
   "source": [
    "## Bonus"
   ]
  },
  {
   "cell_type": "markdown",
   "id": "81ff02c5-6584-4f21-a358-b918697c6432",
   "metadata": {
    "id": "81ff02c5-6584-4f21-a358-b918697c6432"
   },
   "source": [
    "5. The marketing team wants to analyze the number of policies sold by state and month. Present the data in a table where the months are arranged as columns and the states are arranged as rows."
   ]
  },
  {
   "cell_type": "markdown",
   "id": "b6aec097-c633-4017-a125-e77a97259cda",
   "metadata": {
    "id": "b6aec097-c633-4017-a125-e77a97259cda"
   },
   "source": [
    "6.  Display a new DataFrame that contains the number of policies sold by month, by state, for the top 3 states with the highest number of policies sold.\n",
    "\n",
    "*Hint:*\n",
    "- *To accomplish this, you will first need to group the data by state and month, then count the number of policies sold for each group. Afterwards, you will need to sort the data by the count of policies sold in descending order.*\n",
    "- *Next, you will select the top 3 states with the highest number of policies sold.*\n",
    "- *Finally, you will create a new DataFrame that contains the number of policies sold by month for each of the top 3 states.*"
   ]
  },
  {
   "cell_type": "markdown",
   "id": "ba975b8a-a2cf-4fbf-9f59-ebc381767009",
   "metadata": {
    "id": "ba975b8a-a2cf-4fbf-9f59-ebc381767009"
   },
   "source": [
    "7. The marketing team wants to analyze the effect of different marketing channels on the customer response rate.\n",
    "\n",
    "Hint: You can use melt to unpivot the data and create a table that shows the customer response rate (those who responded \"Yes\") by marketing channel."
   ]
  },
  {
   "cell_type": "markdown",
   "id": "e4378d94-48fb-4850-a802-b1bc8f427b2d",
   "metadata": {
    "id": "e4378d94-48fb-4850-a802-b1bc8f427b2d"
   },
   "source": [
    "External Resources for Data Filtering: https://towardsdatascience.com/filtering-data-frames-in-pandas-b570b1f834b9"
   ]
  },
  {
   "cell_type": "code",
   "execution_count": null,
   "id": "449513f4-0459-46a0-a18d-9398d974c9ad",
   "metadata": {
    "id": "449513f4-0459-46a0-a18d-9398d974c9ad"
   },
   "outputs": [],
   "source": [
    "# your code goes here"
   ]
  }
 ],
 "metadata": {
  "colab": {
   "provenance": []
  },
  "kernelspec": {
   "display_name": "Python 3 (ipykernel)",
   "language": "python",
   "name": "python3"
  },
  "language_info": {
   "codemirror_mode": {
    "name": "ipython",
    "version": 3
   },
   "file_extension": ".py",
   "mimetype": "text/x-python",
   "name": "python",
   "nbconvert_exporter": "python",
   "pygments_lexer": "ipython3",
   "version": "3.11.5"
  }
 },
 "nbformat": 4,
 "nbformat_minor": 5
}
